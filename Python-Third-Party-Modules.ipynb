{
 "cells": [
  {
   "cell_type": "markdown",
   "metadata": {},
   "source": [
    "# Third Party Packages"
   ]
  },
  {
   "cell_type": "markdown",
   "metadata": {},
   "source": [
    "## requests\n",
    "Http for humans"
   ]
  },
  {
   "cell_type": "code",
   "execution_count": null,
   "metadata": {},
   "outputs": [],
   "source": [
    "# A simple GET request\n",
    "response = requests.get('https://api.example.com/users')\n",
    "\n",
    "if response.ok:\n",
    "    raw_data = response.content\n",
    "    json_data = response.json() # If server response is in JSON forma"
   ]
  },
  {
   "cell_type": "code",
   "execution_count": 4,
   "metadata": {},
   "outputs": [
    {
     "name": "stdout",
     "output_type": "stream",
     "text": [
      "Enter wordanaconda\n"
     ]
    },
    {
     "data": {
      "text/plain": [
       "'http://www.mnemonicdictionary.com/?word=anaconda'"
      ]
     },
     "execution_count": 4,
     "metadata": {},
     "output_type": "execute_result"
    }
   ],
   "source": [
    "# get with params\n",
    "import requests\n",
    "\n",
    "word = input('Enter word')\n",
    "payload = {\n",
    "    'word': word\n",
    "}\n",
    "\n",
    "ans = requests.get('http://www.mnemonicdictionary.com/',params=payload)\n",
    "ans.url"
   ]
  },
  {
   "cell_type": "code",
   "execution_count": null,
   "metadata": {
    "collapsed": true
   },
   "outputs": [],
   "source": [
    "# for post\n",
    "# payload is a dictionary\n",
    "\n",
    "response = requests.post('https://api.example.com/login', data=payload)"
   ]
  },
  {
   "cell_type": "markdown",
   "metadata": {},
   "source": [
    "## Extras\n",
    "\n",
    "Selenium – Automated web client\n",
    "\n",
    "Dateutil – Better date/time handling\n",
    "\n",
    "SQLAlchemy – Build objects on top of database schemas\n",
    "\n",
    "bcrypt / cryptography – Cryptographic tools\n",
    "\n",
    "scrapy – Web scraping\n",
    "\n",
    "pandas – Vectorized data manipulation\n",
    "\n",
    "boto – Python interface to Amazon Web Services\n",
    "\n",
    "PyEphem – Track planets and satellites.\n",
    "\n",
    "Basemap – Plot 2D data on maps.\n",
    "\n",
    "PRAW – Play with reddit's API, write a reddit bot.\n",
    "\n",
    "robobrowser / mechanize – Automate web tasks.\n",
    "\n",
    "networkx – Visualize small graphs.\n",
    "\n",
    "BeautifulSoup – Rapidly prototype HTML parsers.\n",
    "\n",
    "pygame – Basic game-playing tools."
   ]
  }
 ],
 "metadata": {
  "kernelspec": {
   "display_name": "Python 3",
   "language": "python",
   "name": "python3"
  },
  "language_info": {
   "codemirror_mode": {
    "name": "ipython",
    "version": 3
   },
   "file_extension": ".py",
   "mimetype": "text/x-python",
   "name": "python",
   "nbconvert_exporter": "python",
   "pygments_lexer": "ipython3",
   "version": "3.6.1"
  }
 },
 "nbformat": 4,
 "nbformat_minor": 2
}
